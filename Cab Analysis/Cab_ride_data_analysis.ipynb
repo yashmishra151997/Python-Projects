{
 "cells": [
  {
   "cell_type": "code",
   "execution_count": 1,
   "id": "ad783ee2",
   "metadata": {},
   "outputs": [],
   "source": [
    "import numpy as np"
   ]
  },
  {
   "cell_type": "code",
   "execution_count": 2,
   "id": "6e279230",
   "metadata": {},
   "outputs": [],
   "source": [
    "taxi = np.genfromtxt('Downloads/nyc_taxis.csv', delimiter = ',', skip_header = True)"
   ]
  },
  {
   "cell_type": "code",
   "execution_count": 3,
   "id": "f65dcf0f",
   "metadata": {},
   "outputs": [],
   "source": [
    "# 1. Calculate the mean speed"
   ]
  },
  {
   "cell_type": "code",
   "execution_count": 4,
   "id": "206b5486",
   "metadata": {},
   "outputs": [],
   "source": [
    "# In order to calculate the mean speed we need to create a new analysis for the speed since we don't have a relative column"
   ]
  },
  {
   "cell_type": "code",
   "execution_count": 5,
   "id": "8a27c5e5",
   "metadata": {},
   "outputs": [],
   "source": [
    "speed = taxi[:,7]/(taxi[:,8]/3600)"
   ]
  },
  {
   "cell_type": "code",
   "execution_count": 6,
   "id": "32d5b96a",
   "metadata": {},
   "outputs": [
    {
     "name": "stdout",
     "output_type": "stream",
     "text": [
      "32.24258580925573 m/s\n"
     ]
    }
   ],
   "source": [
    "mean_speed = speed.mean()\n",
    "unit = '{} m/s'\n",
    "print(unit.format(mean_speed))"
   ]
  },
  {
   "cell_type": "code",
   "execution_count": 7,
   "id": "d3d532d4",
   "metadata": {},
   "outputs": [],
   "source": [
    "# 2. Total rides in the month of february"
   ]
  },
  {
   "cell_type": "code",
   "execution_count": 8,
   "id": "8fb395cf",
   "metadata": {},
   "outputs": [
    {
     "name": "stdout",
     "output_type": "stream",
     "text": [
      "13333\n"
     ]
    }
   ],
   "source": [
    "rides_feb = taxi[taxi[:,1] == 2, 1]\n",
    "print(rides_feb.shape[0])"
   ]
  },
  {
   "cell_type": "code",
   "execution_count": 9,
   "id": "de13674f",
   "metadata": {},
   "outputs": [],
   "source": [
    "# 3. No of rides where tip was greater than 50"
   ]
  },
  {
   "cell_type": "code",
   "execution_count": 10,
   "id": "5e24f2c1",
   "metadata": {},
   "outputs": [
    {
     "name": "stdout",
     "output_type": "stream",
     "text": [
      "16\n"
     ]
    }
   ],
   "source": [
    "freq_number = taxi[taxi[:,-3] > 50, -3]\n",
    "print(freq_number.shape[0])"
   ]
  },
  {
   "cell_type": "code",
   "execution_count": 11,
   "id": "e72d619c",
   "metadata": {},
   "outputs": [],
   "source": [
    "# 4. Calculate the number of rides where the drop was JFK airport. airport code = 2"
   ]
  },
  {
   "cell_type": "code",
   "execution_count": 12,
   "id": "77797a97",
   "metadata": {},
   "outputs": [
    {
     "name": "stdout",
     "output_type": "stream",
     "text": [
      "11832\n"
     ]
    }
   ],
   "source": [
    "jfk = taxi[taxi[:,6] == 2 ,6]\n",
    "print(jfk.shape[0])"
   ]
  },
  {
   "cell_type": "code",
   "execution_count": 13,
   "id": "712d00ba",
   "metadata": {},
   "outputs": [],
   "source": [
    "# 5. Calculate total rides where the payment was done by cash. cash_payment_id = 2"
   ]
  },
  {
   "cell_type": "code",
   "execution_count": 14,
   "id": "859a0a96",
   "metadata": {},
   "outputs": [
    {
     "name": "stdout",
     "output_type": "stream",
     "text": [
      "24520\n"
     ]
    }
   ],
   "source": [
    "cash_payment = taxi[taxi[:,-1] == 2, -1]\n",
    "print(cash_payment.shape[0])"
   ]
  },
  {
   "cell_type": "code",
   "execution_count": 15,
   "id": "f4aa9c78",
   "metadata": {},
   "outputs": [],
   "source": [
    "# 6. The max distance covered in any trip"
   ]
  },
  {
   "cell_type": "code",
   "execution_count": 16,
   "id": "00446512",
   "metadata": {},
   "outputs": [
    {
     "name": "stdout",
     "output_type": "stream",
     "text": [
      "182.9\n"
     ]
    }
   ],
   "source": [
    "max_distance = np.max(taxi[:,7])\n",
    "print(max_distance)"
   ]
  },
  {
   "cell_type": "code",
   "execution_count": 17,
   "id": "a550e41b",
   "metadata": {},
   "outputs": [],
   "source": [
    "# 7. Company wants to know the total amnount they will make after getting of the tip"
   ]
  },
  {
   "cell_type": "code",
   "execution_count": 18,
   "id": "2c39653d",
   "metadata": {},
   "outputs": [
    {
     "name": "stdout",
     "output_type": "stream",
     "text": [
      "3864708.64\n"
     ]
    }
   ],
   "source": [
    "total_collection = np.sum(taxi[:,-2])\n",
    "tip = np.sum(taxi[:,-3])\n",
    "remaining = total_collection - tip\n",
    "print(remaining)"
   ]
  },
  {
   "cell_type": "code",
   "execution_count": null,
   "id": "5c3f74f1",
   "metadata": {},
   "outputs": [],
   "source": []
  }
 ],
 "metadata": {
  "kernelspec": {
   "display_name": "Python 3 (ipykernel)",
   "language": "python",
   "name": "python3"
  },
  "language_info": {
   "codemirror_mode": {
    "name": "ipython",
    "version": 3
   },
   "file_extension": ".py",
   "mimetype": "text/x-python",
   "name": "python",
   "nbconvert_exporter": "python",
   "pygments_lexer": "ipython3",
   "version": "3.10.4"
  }
 },
 "nbformat": 4,
 "nbformat_minor": 5
}
